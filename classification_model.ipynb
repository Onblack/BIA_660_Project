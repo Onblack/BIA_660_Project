{
 "cells": [
  {
   "cell_type": "markdown",
   "metadata": {},
   "source": [
    "# Classification Model Part\n",
    " - Load Data\n",
    " - Demonstrate shape of main dataset and adding features"
   ]
  },
  {
   "cell_type": "code",
   "execution_count": 43,
   "metadata": {},
   "outputs": [
    {
     "name": "stdout",
     "output_type": "stream",
     "text": [
      "(52651, 48)\n",
      "(52651, 1)\n",
      "(52651, 5)\n",
      "(52651, 4)\n",
      "(52651, 12)\n"
     ]
    }
   ],
   "source": [
    "import pandas as pd\n",
    "\n",
    "atb = pd.read_csv('data.csv')\n",
    "read_score = pd.read_csv('readScore.csv')\n",
    "pos = pd.read_csv('pos.csv')\n",
    "liwc = pd.read_csv('features_liwc.csv')\n",
    "doctop = pd.read_csv('docTopDist.csv')\n",
    "\n",
    "print(atb.shape)\n",
    "print(read_score.shape)\n",
    "print(pos.shape)\n",
    "print(liwc.shape)\n",
    "print(doctop.shape)"
   ]
  },
  {
   "cell_type": "markdown",
   "metadata": {},
   "source": [
    "### drop non-related columns and null values"
   ]
  },
  {
   "cell_type": "code",
   "execution_count": 44,
   "metadata": {},
   "outputs": [],
   "source": [
    "doctop.columns\n",
    "doctop = doctop.drop(['group_2'], axis=1)"
   ]
  },
  {
   "cell_type": "code",
   "execution_count": 45,
   "metadata": {},
   "outputs": [
    {
     "name": "stdout",
     "output_type": "stream",
     "text": [
      "(52651, 69)\n"
     ]
    },
    {
     "data": {
      "text/plain": [
       "(52499, 69)"
      ]
     },
     "execution_count": 45,
     "metadata": {},
     "output_type": "execute_result"
    }
   ],
   "source": [
    "\n",
    "data = pd.concat([atb,read_score,liwc, pos, doctop], axis=1)\n",
    "print(data.shape)\n",
    "#data['Clout'].isnull().any()\n",
    "#np.argwhere(data['flesch_score'].isnan(x))\n",
    "data = data.dropna(axis=0, subset=['flesch_score'])\n",
    "data.shape"
   ]
  },
  {
   "cell_type": "markdown",
   "metadata": {},
   "source": [
    "- Adding time feature by subtracting launch time from deadline with unix time stamp"
   ]
  },
  {
   "cell_type": "code",
   "execution_count": 46,
   "metadata": {},
   "outputs": [
    {
     "data": {
      "text/plain": [
       "array([0, 1], dtype=int64)"
      ]
     },
     "execution_count": 46,
     "metadata": {},
     "output_type": "execute_result"
    }
   ],
   "source": [
    "from sklearn import preprocessing\n",
    "data['duration'] = data['deadline'] - data['launched_at']\n",
    "#data['duration'].head(10)\n",
    "\n",
    "le = preprocessing.LabelEncoder()\n",
    "le.fit(data['state'].values)\n",
    "data['state_le'] = le.transform(data['state'].values) \n",
    "\n",
    "data.state_le.unique()"
   ]
  },
  {
   "cell_type": "markdown",
   "metadata": {},
   "source": [
    "- check feature importance of each group of topic distribution by applying random forest"
   ]
  },
  {
   "cell_type": "code",
   "execution_count": 24,
   "metadata": {},
   "outputs": [
    {
     "name": "stderr",
     "output_type": "stream",
     "text": [
      "C:\\Users\\Young\\Miniconda3\\lib\\site-packages\\sklearn\\ensemble\\forest.py:246: FutureWarning: The default value of n_estimators will change from 10 in version 0.20 to 100 in 0.22.\n",
      "  \"10 in version 0.20 to 100 in 0.22.\", FutureWarning)\n"
     ]
    },
    {
     "name": "stdout",
     "output_type": "stream",
     "text": [
      "[0.14631489 0.0790702  0.12504166 0.07489351 0.07620397 0.07007033\n",
      " 0.08325906 0.11478947 0.01783478 0.1209335  0.09158864]\n",
      "Topics sorted by thier score of feature importance:\n",
      "[(0.1463, 'group_1'), (0.125, 'group_4'), (0.1209, 'group_11'), (0.1148, 'group_9'), (0.0916, 'group_12'), (0.0833, 'group_8'), (0.0791, 'group_3'), (0.0762, 'group_6'), (0.0749, 'group_5'), (0.0701, 'group_7'), (0.0178, 'group_10')]\n"
     ]
    }
   ],
   "source": [
    "\n",
    "from sklearn.ensemble import RandomForestRegressor\n",
    "import numpy as np\n",
    "#Load boston housing dataset as an example\n",
    "x_raw = data[['group_1', 'group_3', 'group_4', 'group_5', 'group_6',\n",
    "       'group_7', 'group_8', 'group_9', 'group_10', 'group_11', 'group_12']].values\n",
    "X = preprocessing.scale(x_raw)\n",
    "y = data['state_le'].values\n",
    "\n",
    "names = ['group_1', 'group_3', 'group_4', 'group_5', 'group_6',\n",
    "       'group_7', 'group_8', 'group_9', 'group_10', 'group_11', 'group_12']\n",
    "rf = RandomForestRegressor()\n",
    "rf.fit(X, y)\n",
    "print(rf.feature_importances_)\n",
    "print (\"Topics sorted by thier score of feature importance:\")\n",
    "print(sorted(zip(map(lambda x: round(x, 4), rf.feature_importances_), names), \n",
    "             reverse=True))"
   ]
  },
  {
   "cell_type": "code",
   "execution_count": 42,
   "metadata": {},
   "outputs": [
    {
     "data": {
      "image/png": "[encoded data removed]",
      "text/plain": [
       "<Figure size 432x288 with 1 Axes>"
      ]
     },
     "metadata": {
      "needs_background": "light"
     },
     "output_type": "display_data"
    }
   ],
   "source": [
    "import matplotlib.pyplot as plt\n",
    "import numpy as np\n",
    "\n",
    "a = [(0.1463, 'group_1'), (0.125, 'group_4'), (0.1209, 'group_11'), (0.1148, 'group_9'), (0.0916, 'group_12'), (0.0833, 'group_8'), \n",
    " (0.0791, 'group_3'), (0.0762, 'group_6'), (0.0749, 'group_5'), (0.0701, 'group_7'), (0.0178, 'group_10')]\n",
    "\n",
    "x = [i[1] for i in reversed(a)]\n",
    "y = [i[0] for i in reversed(a)]\n",
    "\n",
    "plt.barh(x, y)\n",
    "plt.title(\"Topics sorted by thier score of feature importance\")\n",
    "plt.show()"
   ]
  },
  {
   "cell_type": "code",
   "execution_count": 6,
   "metadata": {},
   "outputs": [
    {
     "data": {
      "text/plain": [
       "array(['Unnamed: 0', 'backers_count', 'blurb', 'category',\n",
       "       'converted_pledged_amount', 'country', 'created_at', 'creator',\n",
       "       'currency', 'currency_symbol', 'currency_trailing_code',\n",
       "       'current_currency', 'deadline', 'disable_communication', 'friends',\n",
       "       'fx_rate', 'goal', 'id', 'is_backing', 'is_starrable',\n",
       "       'is_starred', 'launched_at', 'location', 'name', 'permissions',\n",
       "       'photo', 'pledged', 'profile', 'slug', 'source_url', 'spotlight',\n",
       "       'staff_pick', 'state', 'state_changed_at', 'static_usd_rate',\n",
       "       'urls', 'usd_pledged', 'usd_type', 'project_id', 'url',\n",
       "       'script_dict', 'title', 'progress', 'descripton', 'risk', 'reward',\n",
       "       'create_by', 'category and location', 'flesch_score', 'Analytic',\n",
       "       'Clout', 'Authentic', 'Tone', 'adj', 'comp', 'sup', 'adv', 'pst',\n",
       "       'group_1', 'group_3', 'group_4', 'group_5', 'group_6', 'group_7',\n",
       "       'group_8', 'group_9', 'group_10', 'group_11', 'group_12',\n",
       "       'duration', 'state_le'], dtype=object)"
      ]
     },
     "execution_count": 6,
     "metadata": {},
     "output_type": "execute_result"
    }
   ],
   "source": [
    "data.columns.values"
   ]
  },
  {
   "cell_type": "code",
   "execution_count": 21,
   "metadata": {},
   "outputs": [
    {
     "name": "stdout",
     "output_type": "stream",
     "text": [
      "(52499, 7)\n"
     ]
    }
   ],
   "source": [
    "from sklearn import preprocessing   \n",
    "import numpy as np \n",
    "x_raw = data[['goal', 'duration','flesch_score', 'adj', 'comp', 'sup', 'adv']].values #'backers_count'\n",
    "print(x_raw.shape)\n",
    "X = preprocessing.scale(x_raw)\n",
    "y = data['state_le'].values"
   ]
  },
  {
   "cell_type": "markdown",
   "metadata": {},
   "source": [
    "- testing the performance of PCA, the result is not good"
   ]
  },
  {
   "cell_type": "code",
   "execution_count": null,
   "metadata": {},
   "outputs": [],
   "source": [
    "from sklearn.decomposition import TruncatedSVD\n",
    "tsvd = TruncatedSVD(n_components=30000)\n",
    "dtm_tsvd = tsvd.fit(dtm).transform(dtm)\n",
    "tsvd.explained_variance_ratio_[0:30000].sum()"
   ]
  },
  {
   "cell_type": "markdown",
   "metadata": {},
   "source": [
    "## Model Selection\n",
    "- Choose different fraction of sample size, i.e. 20%, 40%, 60%, 80% and full samples\n",
    "- Split the training and testing features for each fraction\n",
    "- Find the test f1 macro score for each model\n",
    "- Compute the running time for each model\n"
   ]
  },
  {
   "cell_type": "code",
   "execution_count": 53,
   "metadata": {},
   "outputs": [
    {
     "name": "stdout",
     "output_type": "stream",
     "text": [
      "Linear SVM            f1_Score: 0.7997  Time: 4.1094seconds \n",
      "Perceptron            f1_Score: 0.7267  Time: 2.2500seconds \n",
      "LogisticRegression    f1_Score: 0.7760  Time: 87.3906seconds \n",
      "Decision Tree         f1_Score: 0.7304  Time: 18.3125seconds \n"
     ]
    }
   ],
   "source": [
    "############# model selection #################\n",
    "from sklearn.model_selection import train_test_split\n",
    "from sklearn.preprocessing import StandardScaler\n",
    "import time\n",
    "from sklearn.linear_model import Perceptron, LogisticRegression\n",
    "from sklearn.svm import LinearSVC\n",
    "from sklearn.tree import DecisionTreeClassifier\n",
    "from sklearn.ensemble import RandomForestClassifier\n",
    "from sklearn.model_selection import cross_val_score\n",
    "from sklearn.metrics import f1_score\n",
    "\n",
    "names = [\"Linear SVM\",\n",
    "         \"Perceptron\",\n",
    "         \"LogisticRegression\",\n",
    "         \"Decision Tree\", \n",
    "            ] \n",
    "\n",
    "classifiers = [ \n",
    "    LinearSVC(C = 0.000005),\n",
    "    Perceptron(),\n",
    "    LogisticRegression(),\n",
    "    DecisionTreeClassifier(max_depth=5),\n",
    "                 ]\n",
    "\n",
    "X_train, X_test, y_train, y_test = train_test_split(X, y, \n",
    "                            test_size=0.3, \n",
    "                            random_state=0)\n",
    "\n",
    "    \n",
    "from sklearn.preprocessing import StandardScaler\n",
    "from sklearn.decomposition import PCA\n",
    "from sklearn.pipeline import Pipeline\n",
    "    \n",
    "    \n",
    "for name, clf in zip(names, classifiers):\n",
    "    start = time.process_time()\n",
    "    pipe = Pipeline( [ ('scl', StandardScaler(with_mean=False)),\n",
    "                   #('pca', PCA(n_components = 5)),\n",
    "                   ('clf', clf)])\n",
    "    pipe.fit(X_train, y_train)\n",
    "    score = pipe.score(X_test, y_test)\n",
    "\n",
    "\n",
    "    end = time.process_time()\n",
    "    duration = end - start\n",
    "    print(\"{0:20s}  f1_Score: {1:0.4f}  Time: {2:0.4f}seconds \".format(name, score, duration))\n",
    "\n",
    "# Do you need PCA here? How's the performance with and without PCA?\n",
    "# How can you find the best features? (Hint: RF)"
   ]
  },
  {
   "cell_type": "markdown",
   "metadata": {},
   "source": [
    "- record the observeation result for running time and f1 score for each model"
   ]
  },
  {
   "cell_type": "code",
   "execution_count": 37,
   "metadata": {},
   "outputs": [],
   "source": [
    "size = [0.2, 0.4, 0.6, 0.8, 1]\n",
    "svm_t = [0.6719, 1.8438, 7.3281, 3.2344, 4.1094]\n",
    "per_t = [0.4375, 1.0625, 1.6250, 1.8594, 4.1094]\n",
    "lr_t = [6.8750, 16.1094, 37.0000, 57.437, 87.3906]\n",
    "dt_t = [2.8281, 6.0469, 9.7969, 13.8594, 18.3125]\n",
    "svm_f = [0.7406, 0.7746, 0.7888, 0.7907, 0.7997]\n",
    "per_f = [0.6838, 0.7051, 0.7166, 0.7217, 0.7267]\n",
    "lr_f = [0.7654, 0.7741, 0.7796, 0.7746, 0.7760]\n",
    "dt_f = [0.7156, 0.7144, 0.7128, 0.7233, 0.7304]"
   ]
  },
  {
   "cell_type": "markdown",
   "metadata": {},
   "source": [
    "- plot the running times of models"
   ]
  },
  {
   "cell_type": "code",
   "execution_count": 40,
   "metadata": {},
   "outputs": [
    {
     "data": {
      "image/png": "[encoded data removed]",
      "text/plain": [
       "<Figure size 432x288 with 1 Axes>"
      ]
     },
     "metadata": {
      "needs_background": "light"
     },
     "output_type": "display_data"
    }
   ],
   "source": [
    "import matplotlib.pyplot as plt\n",
    "\n",
    "plt.plot(size, svm_t,  label = \"svm\")\n",
    "plt.plot(size, per_t, color = \"g\", label = \"perceptron\")\n",
    "plt.plot(size, lr_t, color = \"r\", label = \"logistic regression\")\n",
    "plt.plot(size, dt_t, color = \"y\", label = \"decision tree\")\n",
    "\n",
    "plt.xlabel('Sample Size Fraction')\n",
    "plt.ylabel('Running Time')\n",
    "plt.title('Running Time of Models')\n",
    "plt.legend()\n",
    "plt.show()"
   ]
  },
  {
   "cell_type": "markdown",
   "metadata": {},
   "source": [
    "- plot f1 score of models"
   ]
  },
  {
   "cell_type": "code",
   "execution_count": 41,
   "metadata": {},
   "outputs": [
    {
     "data": {
      "image/png": "[encoded data removed]",
      "text/plain": [
       "<Figure size 432x288 with 1 Axes>"
      ]
     },
     "metadata": {
      "needs_background": "light"
     },
     "output_type": "display_data"
    }
   ],
   "source": [
    "plt.plot(size, svm_f,  label = \"svm\")\n",
    "plt.plot(size, per_f, color = \"g\", label = \"perceptron\")\n",
    "plt.plot(size, lr_f, color = \"r\", label = \"logistic regression\")\n",
    "plt.plot(size, dt_f, color = \"y\", label = \"decision tree\")\n",
    "\n",
    "plt.xlabel('Sample Size Fraction')\n",
    "plt.ylabel('F1 Score')\n",
    "plt.title('F1 Score of Models')\n",
    "plt.legend()\n",
    "plt.show()"
   ]
  },
  {
   "cell_type": "markdown",
   "metadata": {},
   "source": [
    "## Creating TFIDF sparse matrix"
   ]
  },
  {
   "cell_type": "code",
   "execution_count": 47,
   "metadata": {},
   "outputs": [
    {
     "name": "stdout",
     "output_type": "stream",
     "text": [
      "type of dtm: <class 'scipy.sparse.csr.csr_matrix'>\n",
      "size of tfidf matrix: (52499, 301964)\n"
     ]
    }
   ],
   "source": [
    "from sklearn.feature_extraction.text import TfidfVectorizer\n",
    "\n",
    "# initialize the TfidfVectorizer \n",
    "\n",
    "tfidf_vect = TfidfVectorizer(stop_words='english', min_df = 1) \n",
    "\n",
    "# with stop words removed\n",
    "#tfidf_vect = TfidfVectorizer(stop_words=\"english\") \n",
    "\n",
    "# generate tfidf matrix\n",
    "dtm= tfidf_vect.fit_transform(data[\"descripton\"])\n",
    "\n",
    "print(\"type of dtm:\", type(dtm))\n",
    "print(\"size of tfidf matrix:\", dtm.shape)"
   ]
  },
  {
   "cell_type": "markdown",
   "metadata": {},
   "source": [
    "## Data Prepreation before feeding into models\n",
    "- standrized all features\n",
    "- Combining all the features in to sparse matrices\n",
    "- changing 'X' each time when adding new features"
   ]
  },
  {
   "cell_type": "code",
   "execution_count": 58,
   "metadata": {},
   "outputs": [
    {
     "name": "stdout",
     "output_type": "stream",
     "text": [
      "(52499, 22)\n",
      "(52499, 301964)\n",
      "(52499, 301986)\n"
     ]
    }
   ],
   "source": [
    "from scipy import sparse\n",
    "x_raw = data[['goal', 'duration', 'flesch_score', 'adj', 'comp', 'sup', 'adv', 'pst','Analytic' ,'Clout', 'Authentic', 'Tone',\\\n",
    "             'group_1',  'group_3', 'group_4', 'group_5', 'group_6',\\\n",
    "             'group_7', 'group_8', 'group_9', 'group_10', 'group_11']].values      #'flesch_score', 'adj', 'comp', 'sup', 'adv', 'pst','Analytic' ,'Clout', 'Authentic', 'Tone'\n",
    "X = preprocessing.scale(x_raw)\n",
    "sp_x_o = sparse.csr_matrix(X)\n",
    "print(sp_x_o.shape)\n",
    "\n",
    "dtm_x = preprocessing.scale(dtm, with_mean=False)\n",
    "from scipy.sparse import hstack\n",
    "sp_x = hstack((dtm_x, sp_x_o))\n",
    "sp_xx = hstack((dtm,sp_x_o))\n",
    "y = data['state_le'].values\n",
    "\n",
    "print(dtm.shape)\n",
    "print(sp_x.shape)"
   ]
  },
  {
   "cell_type": "markdown",
   "metadata": {},
   "source": [
    "## classification model of logistic regression"
   ]
  },
  {
   "cell_type": "code",
   "execution_count": 53,
   "metadata": {},
   "outputs": [
    {
     "name": "stdout",
     "output_type": "stream",
     "text": [
      "labels:  [0, 1]\n",
      "precision:  [0.72030518 0.81278173]\n",
      "recall:  [0.68968952 0.83417292]\n",
      "f-score:  [0.70466497 0.82333841]\n",
      "support:  [6023 9727]\n",
      "              precision    recall  f1-score   support\n",
      "\n",
      "           0       0.72      0.69      0.70      6023\n",
      "           1       0.81      0.83      0.82      9727\n",
      "\n",
      "   micro avg       0.78      0.78      0.78     15750\n",
      "   macro avg       0.77      0.76      0.76     15750\n",
      "weighted avg       0.78      0.78      0.78     15750\n",
      "\n"
     ]
    }
   ],
   "source": [
    "from sklearn.model_selection import train_test_split\n",
    "from sklearn.pipeline import Pipeline\n",
    "from sklearn.svm import LinearSVC\n",
    "from sklearn.model_selection import GridSearchCV\n",
    "from sklearn.preprocessing import StandardScaler\n",
    "from sklearn.linear_model import Perceptron, LogisticRegression\n",
    "from sklearn.metrics import precision_recall_fscore_support\n",
    "from sklearn.metrics import classification_report\n",
    "\n",
    "\n",
    "X_train, X_test, y_train, y_test = train_test_split(\\\n",
    "                spx_x, y, test_size=0.3, random_state=0)\n",
    "#clf = svm.LinearSVC(C = 0.000005).fit(X_train, y_train)\n",
    "lr = LogisticRegression(C=10).fit(X_train, y_train)\n",
    "predicted=lr.predict(X_test)\n",
    "labels=sorted(data[\"state_le\"].unique())\n",
    "\n",
    "precision, recall, fscore, support=\\\n",
    "     precision_recall_fscore_support(\\\n",
    "     y_test, predicted, labels=labels)\n",
    "\n",
    "print(\"labels: \", labels)\n",
    "print(\"precision: \", precision)\n",
    "print(\"recall: \", recall)\n",
    "print(\"f-score: \", fscore)\n",
    "print(\"support: \", support)\n",
    "\n",
    "# another way to get all performance metrics\n",
    "print(classification_report(y_test, predicted))"
   ]
  },
  {
   "cell_type": "markdown",
   "metadata": {},
   "source": [
    "## Grid search for Logistic Regression\n",
    "- set parameter from 1 to 100, with the step 10\n",
    "- get the 'C' of best cross validation score when adding new features"
   ]
  },
  {
   "cell_type": "code",
   "execution_count": 88,
   "metadata": {},
   "outputs": [
    {
     "name": "stdout",
     "output_type": "stream",
     "text": [
      "LR__C :  51\n",
      "best f1 score: 0.6898704985757302\n"
     ]
    }
   ],
   "source": [
    "import numpy as np\n",
    "from sklearn.pipeline import Pipeline\n",
    "lrpipe = Pipeline([('scale', StandardScaler(with_mean=False)),\n",
    "                   ('LR',LogisticRegression())])\n",
    "\n",
    "X_train, X_test, y_train, y_test = train_test_split(X, y, \n",
    "                            test_size=0.3, \n",
    "                            random_state=0)\n",
    "\n",
    "param_grid = {'LR__C':np.arange(1,100,10)}\n",
    "#param_grid = {'LR__C':np.arange(100,10000,1000)}\n",
    "metric =  \"f1_macro\"\n",
    "LR = GridSearchCV(lrpipe,param_grid,scoring=metric, cv=5,return_train_score=True)\n",
    "LR.fit(X_train,y_train)\n",
    "\n",
    "for param_name in LR.best_params_:\n",
    "    print(param_name,\": \",LR.best_params_[param_name])\n",
    "\n",
    "print(\"best f1 score:\", LR.best_score_)"
   ]
  },
  {
   "cell_type": "code",
   "execution_count": 59,
   "metadata": {},
   "outputs": [
    {
     "name": "stdout",
     "output_type": "stream",
     "text": [
      "labels:  [0, 1]\n",
      "precision:  [0.71906641 0.81527764]\n",
      "recall:  [0.69566661 0.83170556]\n",
      "f-score:  [0.707173   0.82340967]\n",
      "support:  [6023 9727]\n",
      "              precision    recall  f1-score   support\n",
      "\n",
      "           0       0.72      0.70      0.71      6023\n",
      "           1       0.82      0.83      0.82      9727\n",
      "\n",
      "   micro avg       0.78      0.78      0.78     15750\n",
      "   macro avg       0.77      0.76      0.77     15750\n",
      "weighted avg       0.78      0.78      0.78     15750\n",
      "\n"
     ]
    },
    {
     "name": "stderr",
     "output_type": "stream",
     "text": [
      "C:\\Users\\Young\\Miniconda3\\lib\\site-packages\\sklearn\\svm\\base.py:931: ConvergenceWarning: Liblinear failed to converge, increase the number of iterations.\n",
      "  \"the number of iterations.\", ConvergenceWarning)\n"
     ]
    }
   ],
   "source": [
    "from sklearn.model_selection import train_test_split\n",
    "from sklearn.pipeline import Pipeline\n",
    "from sklearn.svm import LinearSVC\n",
    "from sklearn.model_selection import GridSearchCV\n",
    "from sklearn.preprocessing import StandardScaler\n",
    "\n",
    "from sklearn.model_selection import train_test_split\n",
    "\n",
    "# import method to calculate metrics\n",
    "from sklearn.metrics import precision_recall_fscore_support\n",
    "from sklearn.metrics import classification_report\n",
    "\n",
    "# split dataset into train (70%) and test sets (30%)\n",
    "X_train, X_test, y_train, y_test = train_test_split(\\\n",
    "                sp_x, y, test_size=0.3, random_state=0)\n",
    "\n",
    "from sklearn.model_selection import cross_validate\n",
    "#from sklearn.metrics import precision_recall_fscore_support\n",
    "from sklearn import svm\n",
    "\n",
    "metrics = ['precision_macro', 'recall_macro', \"f1_macro\"]\n",
    "\n",
    "# initiate an linear SVM model\n",
    "clf = svm.LinearSVC(dual = False , C = 0.01).fit(X_train, y_train)\n",
    "predicted=clf.predict(X_test)\n",
    "labels=sorted(data[\"state_le\"].unique())\n",
    "\n",
    "precision, recall, fscore, support=\\\n",
    "     precision_recall_fscore_support(\\\n",
    "     y_test, predicted, labels=labels)\n",
    "\n",
    "print(\"labels: \", labels)\n",
    "print(\"precision: \", precision)\n",
    "print(\"recall: \", recall)\n",
    "print(\"f-score: \", fscore)\n",
    "print(\"support: \", support)\n",
    "\n",
    "# another way to get all performance metrics\n",
    "print(classification_report(y_test, predicted))"
   ]
  },
  {
   "cell_type": "markdown",
   "metadata": {},
   "source": [
    "## Grid search for linear SVM\n",
    "- set parameter from 0.01 to 10, with the step 0.05\n",
    "- get the 'C' of best cross validation score"
   ]
  },
  {
   "cell_type": "code",
   "execution_count": null,
   "metadata": {},
   "outputs": [],
   "source": [
    "SVCpipe = Pipeline([('scale', StandardScaler()),\n",
    "                   ('SVC',LinearSVC())])\n",
    "\n",
    "param_grid = {'SVC__C':np.arange(0.01,10,0.05)}\n",
    "metric =  \"f1_macro\"\n",
    "linearSVC = GridSearchCV(SVCpipe,param_grid,scoring=metric, cv=5,return_train_score=True)\n",
    "linearSVC.fit(X_train,y_train)\n",
    "#print(linearSVC.best_params_)\n",
    "\n",
    "for param_name in linearSVC.best_params_:\n",
    "    print(param_name,\": \",linearSVC.best_params_[param_name])\n",
    "\n",
    "print(\"best f1 score:\", linearSVC.best_score_)"
   ]
  },
  {
   "cell_type": "markdown",
   "metadata": {},
   "source": [
    "## Performance as adding textual features from the baseline\n",
    "- From the baseline, we add the textual features step by step depending on their dimensions, aiming to see how each feature would have effects on macro F1 score.\n"
   ]
  },
  {
   "cell_type": "code",
   "execution_count": 94,
   "metadata": {},
   "outputs": [
    {
     "data": {
      "image/png": "[encoded data removed]",
      "text/plain": [
       "<Figure size 432x288 with 1 Axes>"
      ]
     },
     "metadata": {
      "needs_background": "light"
     },
     "output_type": "display_data"
    }
   ],
   "source": [
    "import matplotlib.pyplot as plt\n",
    "lr = [0.483, 0.483,  0.49, 0.6, 0.69, 0.742]\n",
    "svm = [0.43, 0.44, 0.45, 0.58, 0.73, 0.79]\n",
    "c_lr = [51, 21, 31, 51, 41]\n",
    "c_svm = [C=0.91, C=2.56, C=3.51, C=2.11 ,C=0.51, C=5e-6]\n",
    "\n",
    "features = ['baseline', '+flesch score', '+POS', '+LIWC', '+topic dist.', '+TFIDF']\n",
    "\n",
    "plt.plot(features, lr , 'bx-', color = \"r\", label = \"lr\"  )\n",
    "plt.plot(features, svm, 'bx-', label = \"svm\" )\n",
    "\n",
    "plt.xlabel('Features')\n",
    "plt.ylabel('F1 score')\n",
    "plt.title('Performace as adding textual features from the baseline')\n",
    "plt.legend()\n",
    "plt.show()"
   ]
  }
 ],
 "metadata": {
  "kernelspec": {
   "display_name": "Python 3",
   "language": "python",
   "name": "python3"
  },
  "language_info": {
   "codemirror_mode": {
    "name": "ipython",
    "version": 3
   },
   "file_extension": ".py",
   "mimetype": "text/x-python",
   "name": "python",
   "nbconvert_exporter": "python",
   "pygments_lexer": "ipython3",
   "version": "3.6.5"
  }
 },
 "nbformat": 4,
 "nbformat_minor": 2
}
